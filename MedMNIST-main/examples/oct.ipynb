{
 "cells": [
  {
   "cell_type": "code",
   "execution_count": 2,
   "metadata": {},
   "outputs": [],
   "source": [
    "from tqdm import tqdm\n",
    "import numpy as np\n",
    "import torch\n",
    "import torch.nn as nn\n",
    "import torch.optim as optim\n",
    "import torch.utils.data as data\n",
    "import torchvision.transforms as transforms\n",
    "import matplotlib.pyplot as plt\n",
    "\n",
    "import medmnist\n",
    "from medmnist import INFO, Evaluator"
   ]
  },
  {
   "cell_type": "code",
   "execution_count": 3,
   "metadata": {},
   "outputs": [
    {
     "name": "stdout",
     "output_type": "stream",
     "text": [
      "MedMNIST v3.0.2 @ https://github.com/MedMNIST/MedMNIST/\n"
     ]
    }
   ],
   "source": [
    "print(f\"MedMNIST v{medmnist.__version__} @ {medmnist.HOMEPAGE}\")"
   ]
  },
  {
   "cell_type": "code",
   "execution_count": 4,
   "metadata": {},
   "outputs": [],
   "source": [
    "data_flag = 'octmnist'\n",
    "# data_flag = 'breastmnist'\n",
    "download = False\n",
    "\n",
    "NUM_EPOCHS = 100\n",
    "BATCH_SIZE = 128\n",
    "lr = 0.001\n",
    "\n",
    "info = INFO[data_flag]\n",
    "task = info['task']\n",
    "n_channels = info['n_channels']\n",
    "n_classes = len(info['label'])\n",
    "\n",
    "DataClass = getattr(medmnist, info['python_class'])"
   ]
  },
  {
   "cell_type": "code",
   "execution_count": 5,
   "metadata": {},
   "outputs": [
    {
     "name": "stdout",
     "output_type": "stream",
     "text": [
      "Training samples: 97477\n",
      "Validation samples: 10832\n",
      "Test samples: 1000\n"
     ]
    }
   ],
   "source": [
    "from torch.utils.data import DataLoader\n",
    "\n",
    "# Augmentation for the training dataset\n",
    "train_transform = transforms.Compose([\n",
    "    transforms.RandomHorizontalFlip(p=0.5),  # Randomly flip images horizontally\n",
    "    transforms.RandomRotation(10),  # Rotate images by ±10 degrees\n",
    "    transforms.ColorJitter(brightness=0.2, contrast=0.2, saturation=0.2, hue=0.1),  # Adjust brightness, contrast, etc.\n",
    "    transforms.RandomResizedCrop(size=28, scale=(0.8, 1.0)),  # Random crop with scaling\n",
    "    transforms.ToTensor(),\n",
    "    transforms.Normalize(mean=[0.5], std=[0.5])\n",
    "])\n",
    "\n",
    "# No augmentation for validation & test sets (only normalization)\n",
    "test_transform = transforms.Compose([\n",
    "    transforms.ToTensor(),\n",
    "    transforms.Normalize(mean=[0.5], std=[0.5])\n",
    "])\n",
    "\n",
    "# Load datasets with appropriate transformations\n",
    "train_dataset = DataClass(split='train', transform=train_transform, download=download)\n",
    "validation_dataset = DataClass(split='val', transform=test_transform, download=download)\n",
    "test_dataset = DataClass(split='test', transform=test_transform, download=download)\n",
    "\n",
    "# Encapsulate datasets into DataLoader\n",
    "train_loader = DataLoader(dataset=train_dataset, batch_size=BATCH_SIZE, shuffle=True)\n",
    "validation_loader = DataLoader(dataset=validation_dataset, batch_size=2*BATCH_SIZE, shuffle=False)\n",
    "test_loader = DataLoader(dataset=test_dataset, batch_size=2*BATCH_SIZE, shuffle=False)\n",
    "\n",
    "# Print dataset sizes\n",
    "print(f\"Training samples: {len(train_dataset)}\")\n",
    "print(f\"Validation samples: {len(validation_dataset)}\")\n",
    "print(f\"Test samples: {len(test_dataset)}\")\n"
   ]
  },
  {
   "cell_type": "code",
   "execution_count": 6,
   "metadata": {},
   "outputs": [
    {
     "name": "stdout",
     "output_type": "stream",
     "text": [
      "Dataset OCTMNIST of size 28 (octmnist)\n",
      "    Number of datapoints: 97477\n",
      "    Root location: /home/oussama/.medmnist\n",
      "    Split: train\n",
      "    Task: multi-class\n",
      "    Number of channels: 1\n",
      "    Meaning of labels: {'0': 'choroidal neovascularization', '1': 'diabetic macular edema', '2': 'drusen', '3': 'normal'}\n",
      "    Number of samples: {'train': 97477, 'val': 10832, 'test': 1000}\n",
      "    Description: The OCTMNIST is based on a prior dataset of 109,309 valid optical coherence tomography (OCT) images for retinal diseases. The dataset is comprised of 4 diagnosis categories, leading to a multi-class classification task. We split the source training set with a ratio of 9:1 into training and validation set, and use its source validation set as the test set. The source images are gray-scale, and their sizes are (384−1,536)×(277−512). We center-crop the images and resize them into 1×28×28.\n",
      "    License: CC BY 4.0\n",
      "===================\n",
      "Dataset OCTMNIST of size 28 (octmnist)\n",
      "    Number of datapoints: 10832\n",
      "    Root location: /home/oussama/.medmnist\n",
      "    Split: val\n",
      "    Task: multi-class\n",
      "    Number of channels: 1\n",
      "    Meaning of labels: {'0': 'choroidal neovascularization', '1': 'diabetic macular edema', '2': 'drusen', '3': 'normal'}\n",
      "    Number of samples: {'train': 97477, 'val': 10832, 'test': 1000}\n",
      "    Description: The OCTMNIST is based on a prior dataset of 109,309 valid optical coherence tomography (OCT) images for retinal diseases. The dataset is comprised of 4 diagnosis categories, leading to a multi-class classification task. We split the source training set with a ratio of 9:1 into training and validation set, and use its source validation set as the test set. The source images are gray-scale, and their sizes are (384−1,536)×(277−512). We center-crop the images and resize them into 1×28×28.\n",
      "    License: CC BY 4.0\n",
      "===================\n",
      "Dataset OCTMNIST of size 28 (octmnist)\n",
      "    Number of datapoints: 1000\n",
      "    Root location: /home/oussama/.medmnist\n",
      "    Split: test\n",
      "    Task: multi-class\n",
      "    Number of channels: 1\n",
      "    Meaning of labels: {'0': 'choroidal neovascularization', '1': 'diabetic macular edema', '2': 'drusen', '3': 'normal'}\n",
      "    Number of samples: {'train': 97477, 'val': 10832, 'test': 1000}\n",
      "    Description: The OCTMNIST is based on a prior dataset of 109,309 valid optical coherence tomography (OCT) images for retinal diseases. The dataset is comprised of 4 diagnosis categories, leading to a multi-class classification task. We split the source training set with a ratio of 9:1 into training and validation set, and use its source validation set as the test set. The source images are gray-scale, and their sizes are (384−1,536)×(277−512). We center-crop the images and resize them into 1×28×28.\n",
      "    License: CC BY 4.0\n"
     ]
    }
   ],
   "source": [
    "print(train_dataset)\n",
    "print(\"===================\")\n",
    "print(validation_dataset)\n",
    "print(\"===================\")\n",
    "print(test_dataset)"
   ]
  },
  {
   "cell_type": "code",
   "execution_count": 7,
   "metadata": {},
   "outputs": [
    {
     "data": {
      "image/jpeg": "[encoded data removed]",
      "image/png": "[encoded data removed]",
      "text/plain": [
       "<PIL.Image.Image image mode=L size=28x28>"
      ]
     },
     "execution_count": 7,
     "metadata": {},
     "output_type": "execute_result"
    }
   ],
   "source": [
    "# visualization\n",
    "\n",
    "train_dataset.montage(length=1)"
   ]
  },
  {
   "cell_type": "code",
   "execution_count": 8,
   "metadata": {},
   "outputs": [
    {
     "data": {
      "image/jpeg": "[encoded data removed]",
      "image/png": "[encoded data removed]",
      "text/plain": [
       "<PIL.Image.Image image mode=L size=560x560>"
      ]
     },
     "execution_count": 8,
     "metadata": {},
     "output_type": "execute_result"
    }
   ],
   "source": [
    "# montage\n",
    "\n",
    "train_dataset.montage(length=20)"
   ]
  },
  {
   "cell_type": "code",
   "execution_count": 9,
   "metadata": {},
   "outputs": [
    {
     "name": "stdout",
     "output_type": "stream",
     "text": [
      "Using device: cuda:0\n"
     ]
    }
   ],
   "source": [
    "# Check if GPU is available\n",
    "device = torch.device(\"cuda:0\" if torch.cuda.is_available() else \"cpu\")\n",
    "print(f\"Using device: {device}\")"
   ]
  },
  {
   "cell_type": "code",
   "execution_count": 10,
   "metadata": {},
   "outputs": [],
   "source": [
    "class M5(torch.nn.Module):\n",
    "    def __init__(self, output=9):\n",
    "        super(M5, self).__init__()\n",
    "        # Layer 1\n",
    "        self.Conv1 = torch.nn.Conv2d(in_channels=3, out_channels=16, kernel_size=3, stride=1, padding=0)\n",
    "        self.ReLU1 = nn.ReLU()\n",
    "        self.AvgPool1 = torch.nn.AvgPool2d(kernel_size = 2)\n",
    "        # Layer 2\n",
    "        self.Conv2 = torch.nn.Conv2d(in_channels=16, out_channels=64, kernel_size=4, stride=1, padding=0)\n",
    "        self.ReLU2 = nn.ReLU()\n",
    "        self.AvgPool2 = torch.nn.AvgPool2d(kernel_size = 2)\n",
    "        # Layer 3\n",
    "        self.Conv3 = torch.nn.Conv2d(in_channels=64, out_channels=128, kernel_size=3, stride=1, padding=0)\n",
    "        self.ReLU3 = nn.ReLU()\n",
    "        self.AvgPool3 = torch.nn.AvgPool2d(kernel_size = 3)\n",
    "        self.Flatten = nn.ReLU()\n",
    "        self.FC1 = torch.nn.Linear(1*1*128, output)\n",
    "\n",
    "\n",
    "    def forward(self, x):\n",
    "        out = self.Conv1(x)\n",
    "        out = self.ReLU1(out)\n",
    "        out = self.AvgPool1(out)\n",
    "        out = self.Conv2(out)\n",
    "        out = self.ReLU2(out)\n",
    "        out = self.AvgPool2(out)\n",
    "        out = self.Conv3(out)\n",
    "        out = self.ReLU3(out)\n",
    "        out = self.AvgPool3(out)\n",
    "        out = self.Flatten(out)\n",
    "        out = out.view(out.shape[0], -1)  # Fix flattening\n",
    "        out = self.FC1(out)\n",
    "        return out\n",
    "    \n",
    "model = M5(output=n_classes)\n",
    "model = model.to(device)\n",
    "\n",
    "# define loss function and optimizer\n",
    "if task == \"multi-label, binary-class\":\n",
    "    criterion = nn.BCEWithLogitsLoss()\n",
    "else:\n",
    "    criterion = nn.CrossEntropyLoss()\n",
    "    \n",
    "optimizer = optim.SGD(model.parameters(), lr=lr, momentum=0.9)"
   ]
  },
  {
   "cell_type": "code",
   "execution_count": 11,
   "metadata": {},
   "outputs": [],
   "source": [
    "\n",
    "class Flatten(torch.nn.Module):\n",
    "    def forward(self, x):\n",
    "        return torch.flatten(x, 1)"
   ]
  },
  {
   "cell_type": "code",
   "execution_count": 12,
   "metadata": {},
   "outputs": [],
   "source": [
    "class Lenet5(nn.Module):\n",
    "    def __init__(self, outputs=2):\n",
    "        super(Lenet5, self).__init__()\n",
    "\n",
    "        # First convolutional layer\n",
    "        self.conv1 = nn.Conv2d(in_channels=1, out_channels=6, kernel_size=3, stride=1, padding=0)\n",
    "        self.relu1 = nn.ReLU()\n",
    "        self.pool = nn.AvgPool2d(kernel_size=2, stride=2)  # Reduce feature map size\n",
    "\n",
    "        # Second convolutional layer\n",
    "        self.conv2 = nn.Conv2d(in_channels=6, out_channels=16, kernel_size=3, stride=1, padding=1)\n",
    "        self.relu2 = nn.ReLU()\n",
    "\n",
    "        # Second pooling layer to further reduce size\n",
    "        self.pool2 = nn.AvgPool2d(kernel_size = 2, stride = 2)  # ADDED: Extra pooling layer\n",
    "\n",
    "        self.Flatten = Flatten()\n",
    "\n",
    "        # Fully connected layer\n",
    "        self.fc1 = nn.Linear(in_features=576, out_features=120)  # Reduced size\n",
    "        self.fc2 = nn.Linear(in_features=120, out_features=84)  # Reduced size\n",
    "        self.fc3 = nn.Linear(in_features=84, out_features=outputs)  # Reduced size\n",
    "\n",
    "    def forward(self, input):\n",
    "        output = self.conv1(input)\n",
    "        output = self.relu1(output)\n",
    "        output = self.pool(output)\n",
    "\n",
    "        output = self.conv2(output)\n",
    "        output = self.relu2(output)\n",
    "        output = self.pool2(output)  # Apply extra pooling layer\n",
    "\n",
    "        output = self.Flatten(output)\n",
    "\n",
    "        output = self.fc1(output)\n",
    "        output = self.fc2(output)\n",
    "        output = self.fc3(output)\n",
    "        return output\n",
    "    \n",
    "model = Lenet5(outputs=n_classes)\n",
    "model = model.to(device)\n",
    "\n",
    "# define loss function and optimizer\n",
    "if task == \"multi-label, binary-class\":\n",
    "    criterion = nn.BCEWithLogitsLoss()\n",
    "else:\n",
    "    criterion = nn.CrossEntropyLoss()\n",
    "    \n",
    "optimizer = optim.SGD(model.parameters(), lr=lr, momentum=0.9)"
   ]
  },
  {
   "cell_type": "markdown",
   "metadata": {},
   "source": [
    "## Next, we can start to train and evaluate!"
   ]
  },
  {
   "cell_type": "code",
   "execution_count": 13,
   "metadata": {},
   "outputs": [],
   "source": [
    "# Initialize lists to store accuracy and loss\n",
    "train_losses = []\n",
    "validation_losses = []\n",
    "train_accuracies = []\n",
    "validation_accuracies = []"
   ]
  },
  {
   "cell_type": "code",
   "execution_count": 14,
   "metadata": {},
   "outputs": [
    {
     "name": "stdout",
     "output_type": "stream",
     "text": [
      "\n",
      "Epoch [1/100] Training...\n"
     ]
    },
    {
     "name": "stderr",
     "output_type": "stream",
     "text": [
      "100%|██████████| 762/762 [00:40<00:00, 19.01it/s]\n"
     ]
    },
    {
     "name": "stdout",
     "output_type": "stream",
     "text": [
      "\n",
      "Summary: Train Loss: 1.1655, Train Acc: 46.74%, Validation Loss: 12.3716, Validation Acc: 47.42%\n",
      "\n",
      "Epoch [2/100] Training...\n"
     ]
    },
    {
     "name": "stderr",
     "output_type": "stream",
     "text": [
      "100%|██████████| 762/762 [00:39<00:00, 19.32it/s]\n"
     ]
    },
    {
     "name": "stdout",
     "output_type": "stream",
     "text": [
      "\n",
      "Summary: Train Loss: 1.1472, Train Acc: 48.32%, Validation Loss: 12.2937, Validation Acc: 48.49%\n",
      "\n",
      "Epoch [3/100] Training...\n"
     ]
    },
    {
     "name": "stderr",
     "output_type": "stream",
     "text": [
      "100%|██████████| 762/762 [00:39<00:00, 19.33it/s]\n"
     ]
    },
    {
     "name": "stdout",
     "output_type": "stream",
     "text": [
      "\n",
      "Summary: Train Loss: 1.1374, Train Acc: 49.61%, Validation Loss: 12.1124, Validation Acc: 51.31%\n",
      "\n",
      "Epoch [4/100] Training...\n"
     ]
    },
    {
     "name": "stderr",
     "output_type": "stream",
     "text": [
      "100%|██████████| 762/762 [00:38<00:00, 19.59it/s]\n"
     ]
    },
    {
     "name": "stdout",
     "output_type": "stream",
     "text": [
      "\n",
      "Summary: Train Loss: 1.1124, Train Acc: 53.13%, Validation Loss: 11.6897, Validation Acc: 58.61%\n",
      "\n",
      "Epoch [5/100] Training...\n"
     ]
    },
    {
     "name": "stderr",
     "output_type": "stream",
     "text": [
      "100%|██████████| 762/762 [00:38<00:00, 19.90it/s]\n"
     ]
    },
    {
     "name": "stdout",
     "output_type": "stream",
     "text": [
      "\n",
      "Summary: Train Loss: 1.0739, Train Acc: 57.36%, Validation Loss: 11.3299, Validation Acc: 57.63%\n",
      "\n",
      "Epoch [6/100] Training...\n"
     ]
    },
    {
     "name": "stderr",
     "output_type": "stream",
     "text": [
      "100%|██████████| 762/762 [00:38<00:00, 19.81it/s]\n"
     ]
    },
    {
     "name": "stdout",
     "output_type": "stream",
     "text": [
      "\n",
      "Summary: Train Loss: 1.0502, Train Acc: 59.47%, Validation Loss: 10.8979, Validation Acc: 62.80%\n",
      "\n",
      "Epoch [7/100] Training...\n"
     ]
    },
    {
     "name": "stderr",
     "output_type": "stream",
     "text": [
      "100%|██████████| 762/762 [00:37<00:00, 20.25it/s]\n"
     ]
    },
    {
     "name": "stdout",
     "output_type": "stream",
     "text": [
      "\n",
      "Summary: Train Loss: 1.0382, Train Acc: 60.17%, Validation Loss: 10.7640, Validation Acc: 63.89%\n",
      "\n",
      "Epoch [8/100] Training...\n"
     ]
    },
    {
     "name": "stderr",
     "output_type": "stream",
     "text": [
      "100%|██████████| 762/762 [00:37<00:00, 20.39it/s]\n"
     ]
    },
    {
     "name": "stdout",
     "output_type": "stream",
     "text": [
      "\n",
      "Summary: Train Loss: 1.0280, Train Acc: 60.88%, Validation Loss: 10.6101, Validation Acc: 62.92%\n",
      "\n",
      "Epoch [9/100] Training...\n"
     ]
    },
    {
     "name": "stderr",
     "output_type": "stream",
     "text": [
      "100%|██████████| 762/762 [00:37<00:00, 20.54it/s]\n"
     ]
    },
    {
     "name": "stdout",
     "output_type": "stream",
     "text": [
      "\n",
      "Summary: Train Loss: 1.0053, Train Acc: 62.27%, Validation Loss: 10.4719, Validation Acc: 62.89%\n",
      "\n",
      "Epoch [10/100] Training...\n"
     ]
    },
    {
     "name": "stderr",
     "output_type": "stream",
     "text": [
      "100%|██████████| 762/762 [00:37<00:00, 20.40it/s]\n"
     ]
    },
    {
     "name": "stdout",
     "output_type": "stream",
     "text": [
      "\n",
      "Summary: Train Loss: 0.9792, Train Acc: 63.61%, Validation Loss: 9.8464, Validation Acc: 66.33%\n",
      "\n",
      "Epoch [11/100] Training...\n"
     ]
    },
    {
     "name": "stderr",
     "output_type": "stream",
     "text": [
      "100%|██████████| 762/762 [00:37<00:00, 20.15it/s]\n"
     ]
    },
    {
     "name": "stdout",
     "output_type": "stream",
     "text": [
      "\n",
      "Summary: Train Loss: 0.9455, Train Acc: 65.12%, Validation Loss: 9.5933, Validation Acc: 67.10%\n",
      "\n",
      "Epoch [12/100] Training...\n"
     ]
    },
    {
     "name": "stderr",
     "output_type": "stream",
     "text": [
      "100%|██████████| 762/762 [00:38<00:00, 19.97it/s]\n"
     ]
    },
    {
     "name": "stdout",
     "output_type": "stream",
     "text": [
      "\n",
      "Summary: Train Loss: 0.9266, Train Acc: 65.88%, Validation Loss: 9.2387, Validation Acc: 68.86%\n",
      "\n",
      "Epoch [13/100] Training...\n"
     ]
    },
    {
     "name": "stderr",
     "output_type": "stream",
     "text": [
      "100%|██████████| 762/762 [00:37<00:00, 20.40it/s]\n"
     ]
    },
    {
     "name": "stdout",
     "output_type": "stream",
     "text": [
      "\n",
      "Summary: Train Loss: 0.9084, Train Acc: 66.83%, Validation Loss: 9.1552, Validation Acc: 68.78%\n",
      "\n",
      "Epoch [14/100] Training...\n"
     ]
    },
    {
     "name": "stderr",
     "output_type": "stream",
     "text": [
      "100%|██████████| 762/762 [00:37<00:00, 20.50it/s]\n"
     ]
    },
    {
     "name": "stdout",
     "output_type": "stream",
     "text": [
      "\n",
      "Summary: Train Loss: 0.8941, Train Acc: 67.48%, Validation Loss: 9.0845, Validation Acc: 69.08%\n",
      "\n",
      "Epoch [15/100] Training...\n"
     ]
    },
    {
     "name": "stderr",
     "output_type": "stream",
     "text": [
      "100%|██████████| 762/762 [00:37<00:00, 20.33it/s]\n"
     ]
    },
    {
     "name": "stdout",
     "output_type": "stream",
     "text": [
      "\n",
      "Summary: Train Loss: 0.8770, Train Acc: 68.37%, Validation Loss: 8.7383, Validation Acc: 70.76%\n",
      "\n",
      "Epoch [16/100] Training...\n"
     ]
    },
    {
     "name": "stderr",
     "output_type": "stream",
     "text": [
      "100%|██████████| 762/762 [00:37<00:00, 20.56it/s]\n"
     ]
    },
    {
     "name": "stdout",
     "output_type": "stream",
     "text": [
      "\n",
      "Summary: Train Loss: 0.8638, Train Acc: 68.79%, Validation Loss: 8.9496, Validation Acc: 69.46%\n",
      "\n",
      "Epoch [17/100] Training...\n"
     ]
    },
    {
     "name": "stderr",
     "output_type": "stream",
     "text": [
      "100%|██████████| 762/762 [00:36<00:00, 20.71it/s]\n"
     ]
    },
    {
     "name": "stdout",
     "output_type": "stream",
     "text": [
      "\n",
      "Summary: Train Loss: 0.8501, Train Acc: 69.53%, Validation Loss: 8.8397, Validation Acc: 69.92%\n",
      "\n",
      "Epoch [18/100] Training...\n"
     ]
    },
    {
     "name": "stderr",
     "output_type": "stream",
     "text": [
      "100%|██████████| 762/762 [00:36<00:00, 20.75it/s]\n"
     ]
    },
    {
     "name": "stdout",
     "output_type": "stream",
     "text": [
      "\n",
      "Summary: Train Loss: 0.8370, Train Acc: 69.80%, Validation Loss: 8.7155, Validation Acc: 70.09%\n",
      "\n",
      "Epoch [19/100] Training...\n"
     ]
    },
    {
     "name": "stderr",
     "output_type": "stream",
     "text": [
      "100%|██████████| 762/762 [00:37<00:00, 20.50it/s]\n"
     ]
    },
    {
     "name": "stdout",
     "output_type": "stream",
     "text": [
      "\n",
      "Summary: Train Loss: 0.8261, Train Acc: 70.10%, Validation Loss: 8.7312, Validation Acc: 70.01%\n",
      "\n",
      "Epoch [20/100] Training...\n"
     ]
    },
    {
     "name": "stderr",
     "output_type": "stream",
     "text": [
      "100%|██████████| 762/762 [00:36<00:00, 20.72it/s]\n"
     ]
    },
    {
     "name": "stdout",
     "output_type": "stream",
     "text": [
      "\n",
      "Summary: Train Loss: 0.8110, Train Acc: 70.75%, Validation Loss: 8.6405, Validation Acc: 70.61%\n",
      "\n",
      "Epoch [21/100] Training...\n"
     ]
    },
    {
     "name": "stderr",
     "output_type": "stream",
     "text": [
      "100%|██████████| 762/762 [00:36<00:00, 20.70it/s]\n"
     ]
    },
    {
     "name": "stdout",
     "output_type": "stream",
     "text": [
      "\n",
      "Summary: Train Loss: 0.8068, Train Acc: 71.02%, Validation Loss: 8.0078, Validation Acc: 73.15%\n",
      "\n",
      "Epoch [22/100] Training...\n"
     ]
    },
    {
     "name": "stderr",
     "output_type": "stream",
     "text": [
      "100%|██████████| 762/762 [00:37<00:00, 20.43it/s]\n"
     ]
    },
    {
     "name": "stdout",
     "output_type": "stream",
     "text": [
      "\n",
      "Summary: Train Loss: 0.7928, Train Acc: 71.36%, Validation Loss: 7.6532, Validation Acc: 74.41%\n",
      "\n",
      "Epoch [23/100] Training...\n"
     ]
    },
    {
     "name": "stderr",
     "output_type": "stream",
     "text": [
      "100%|██████████| 762/762 [00:36<00:00, 20.75it/s]\n"
     ]
    },
    {
     "name": "stdout",
     "output_type": "stream",
     "text": [
      "\n",
      "Summary: Train Loss: 0.7829, Train Acc: 71.91%, Validation Loss: 7.6149, Validation Acc: 74.87%\n",
      "\n",
      "Epoch [24/100] Training...\n"
     ]
    },
    {
     "name": "stderr",
     "output_type": "stream",
     "text": [
      "100%|██████████| 762/762 [00:36<00:00, 20.63it/s]\n"
     ]
    },
    {
     "name": "stdout",
     "output_type": "stream",
     "text": [
      "\n",
      "Summary: Train Loss: 0.7705, Train Acc: 72.28%, Validation Loss: 7.5440, Validation Acc: 74.72%\n",
      "\n",
      "Epoch [25/100] Training...\n"
     ]
    },
    {
     "name": "stderr",
     "output_type": "stream",
     "text": [
      "100%|██████████| 762/762 [00:36<00:00, 20.65it/s]\n"
     ]
    },
    {
     "name": "stdout",
     "output_type": "stream",
     "text": [
      "\n",
      "Summary: Train Loss: 0.7594, Train Acc: 72.70%, Validation Loss: 7.6280, Validation Acc: 74.14%\n",
      "\n",
      "Epoch [26/100] Training...\n"
     ]
    },
    {
     "name": "stderr",
     "output_type": "stream",
     "text": [
      "100%|██████████| 762/762 [00:36<00:00, 20.73it/s]\n"
     ]
    },
    {
     "name": "stdout",
     "output_type": "stream",
     "text": [
      "\n",
      "Summary: Train Loss: 0.7544, Train Acc: 72.98%, Validation Loss: 7.1213, Validation Acc: 76.47%\n",
      "\n",
      "Epoch [27/100] Training...\n"
     ]
    },
    {
     "name": "stderr",
     "output_type": "stream",
     "text": [
      "100%|██████████| 762/762 [00:36<00:00, 20.64it/s]\n"
     ]
    },
    {
     "name": "stdout",
     "output_type": "stream",
     "text": [
      "\n",
      "Summary: Train Loss: 0.7467, Train Acc: 73.35%, Validation Loss: 8.1862, Validation Acc: 72.15%\n",
      "\n",
      "Epoch [28/100] Training...\n"
     ]
    },
    {
     "name": "stderr",
     "output_type": "stream",
     "text": [
      "100%|██████████| 762/762 [00:36<00:00, 20.79it/s]\n"
     ]
    },
    {
     "name": "stdout",
     "output_type": "stream",
     "text": [
      "\n",
      "Summary: Train Loss: 0.7389, Train Acc: 73.64%, Validation Loss: 7.0663, Validation Acc: 76.53%\n",
      "\n",
      "Epoch [29/100] Training...\n"
     ]
    },
    {
     "name": "stderr",
     "output_type": "stream",
     "text": [
      "100%|██████████| 762/762 [00:37<00:00, 20.53it/s]\n"
     ]
    },
    {
     "name": "stdout",
     "output_type": "stream",
     "text": [
      "\n",
      "Summary: Train Loss: 0.7311, Train Acc: 73.89%, Validation Loss: 7.2917, Validation Acc: 75.55%\n",
      "\n",
      "Epoch [30/100] Training...\n"
     ]
    },
    {
     "name": "stderr",
     "output_type": "stream",
     "text": [
      "100%|██████████| 762/762 [00:36<00:00, 20.79it/s]\n"
     ]
    },
    {
     "name": "stdout",
     "output_type": "stream",
     "text": [
      "\n",
      "Summary: Train Loss: 0.7257, Train Acc: 74.04%, Validation Loss: 7.1198, Validation Acc: 76.35%\n",
      "\n",
      "Epoch [31/100] Training...\n"
     ]
    },
    {
     "name": "stderr",
     "output_type": "stream",
     "text": [
      "100%|██████████| 762/762 [00:36<00:00, 20.79it/s]\n"
     ]
    },
    {
     "name": "stdout",
     "output_type": "stream",
     "text": [
      "\n",
      "Summary: Train Loss: 0.7159, Train Acc: 74.43%, Validation Loss: 6.7448, Validation Acc: 77.66%\n",
      "\n",
      "Epoch [32/100] Training...\n"
     ]
    },
    {
     "name": "stderr",
     "output_type": "stream",
     "text": [
      "100%|██████████| 762/762 [00:36<00:00, 20.69it/s]\n"
     ]
    },
    {
     "name": "stdout",
     "output_type": "stream",
     "text": [
      "\n",
      "Summary: Train Loss: 0.7115, Train Acc: 74.58%, Validation Loss: 6.8432, Validation Acc: 77.48%\n",
      "\n",
      "Epoch [33/100] Training...\n"
     ]
    },
    {
     "name": "stderr",
     "output_type": "stream",
     "text": [
      "100%|██████████| 762/762 [00:36<00:00, 20.69it/s]\n"
     ]
    },
    {
     "name": "stdout",
     "output_type": "stream",
     "text": [
      "\n",
      "Summary: Train Loss: 0.7055, Train Acc: 74.83%, Validation Loss: 7.6977, Validation Acc: 74.10%\n",
      "\n",
      "Epoch [34/100] Training...\n"
     ]
    },
    {
     "name": "stderr",
     "output_type": "stream",
     "text": [
      "100%|██████████| 762/762 [00:37<00:00, 20.53it/s]\n"
     ]
    },
    {
     "name": "stdout",
     "output_type": "stream",
     "text": [
      "\n",
      "Summary: Train Loss: 0.7018, Train Acc: 75.05%, Validation Loss: 6.8501, Validation Acc: 76.91%\n",
      "\n",
      "Epoch [35/100] Training...\n"
     ]
    },
    {
     "name": "stderr",
     "output_type": "stream",
     "text": [
      "100%|██████████| 762/762 [00:36<00:00, 20.63it/s]\n"
     ]
    },
    {
     "name": "stdout",
     "output_type": "stream",
     "text": [
      "\n",
      "Summary: Train Loss: 0.6959, Train Acc: 75.26%, Validation Loss: 6.8099, Validation Acc: 77.30%\n",
      "\n",
      "Epoch [36/100] Training...\n"
     ]
    },
    {
     "name": "stderr",
     "output_type": "stream",
     "text": [
      "100%|██████████| 762/762 [00:36<00:00, 20.90it/s]\n"
     ]
    },
    {
     "name": "stdout",
     "output_type": "stream",
     "text": [
      "\n",
      "Summary: Train Loss: 0.6880, Train Acc: 75.51%, Validation Loss: 8.2585, Validation Acc: 72.62%\n",
      "\n",
      "Epoch [37/100] Training...\n"
     ]
    },
    {
     "name": "stderr",
     "output_type": "stream",
     "text": [
      "100%|██████████| 762/762 [00:36<00:00, 20.64it/s]\n"
     ]
    },
    {
     "name": "stdout",
     "output_type": "stream",
     "text": [
      "\n",
      "Summary: Train Loss: 0.6853, Train Acc: 75.63%, Validation Loss: 7.3626, Validation Acc: 75.25%\n",
      "\n",
      "Epoch [38/100] Training...\n"
     ]
    },
    {
     "name": "stderr",
     "output_type": "stream",
     "text": [
      "100%|██████████| 762/762 [00:36<00:00, 20.72it/s]\n"
     ]
    },
    {
     "name": "stdout",
     "output_type": "stream",
     "text": [
      "\n",
      "Summary: Train Loss: 0.6762, Train Acc: 75.90%, Validation Loss: 6.8666, Validation Acc: 77.28%\n",
      "\n",
      "Epoch [39/100] Training...\n"
     ]
    },
    {
     "name": "stderr",
     "output_type": "stream",
     "text": [
      "100%|██████████| 762/762 [00:36<00:00, 20.80it/s]\n"
     ]
    },
    {
     "name": "stdout",
     "output_type": "stream",
     "text": [
      "\n",
      "Summary: Train Loss: 0.6724, Train Acc: 75.98%, Validation Loss: 7.1136, Validation Acc: 76.18%\n",
      "\n",
      "Epoch [40/100] Training...\n"
     ]
    },
    {
     "name": "stderr",
     "output_type": "stream",
     "text": [
      "100%|██████████| 762/762 [00:36<00:00, 20.92it/s]\n"
     ]
    },
    {
     "name": "stdout",
     "output_type": "stream",
     "text": [
      "\n",
      "Summary: Train Loss: 0.6756, Train Acc: 76.01%, Validation Loss: 7.8000, Validation Acc: 73.86%\n",
      "\n",
      "Epoch [41/100] Training...\n"
     ]
    },
    {
     "name": "stderr",
     "output_type": "stream",
     "text": [
      "100%|██████████| 762/762 [00:36<00:00, 20.83it/s]\n"
     ]
    },
    {
     "name": "stdout",
     "output_type": "stream",
     "text": [
      "\n",
      "Summary: Train Loss: 0.6675, Train Acc: 76.20%, Validation Loss: 7.0091, Validation Acc: 76.55%\n",
      "\n",
      "Epoch [42/100] Training...\n"
     ]
    },
    {
     "name": "stderr",
     "output_type": "stream",
     "text": [
      "100%|██████████| 762/762 [00:36<00:00, 20.88it/s]\n"
     ]
    },
    {
     "name": "stdout",
     "output_type": "stream",
     "text": [
      "\n",
      "Summary: Train Loss: 0.6605, Train Acc: 76.60%, Validation Loss: 7.2108, Validation Acc: 75.84%\n",
      "\n",
      "Epoch [43/100] Training...\n"
     ]
    },
    {
     "name": "stderr",
     "output_type": "stream",
     "text": [
      "100%|██████████| 762/762 [00:36<00:00, 20.70it/s]\n"
     ]
    },
    {
     "name": "stdout",
     "output_type": "stream",
     "text": [
      "\n",
      "Summary: Train Loss: 0.6574, Train Acc: 76.69%, Validation Loss: 6.8496, Validation Acc: 77.38%\n",
      "\n",
      "Epoch [44/100] Training...\n"
     ]
    },
    {
     "name": "stderr",
     "output_type": "stream",
     "text": [
      "100%|██████████| 762/762 [00:36<00:00, 20.79it/s]\n"
     ]
    },
    {
     "name": "stdout",
     "output_type": "stream",
     "text": [
      "\n",
      "Summary: Train Loss: 0.6553, Train Acc: 76.71%, Validation Loss: 6.3478, Validation Acc: 78.79%\n",
      "\n",
      "Epoch [45/100] Training...\n"
     ]
    },
    {
     "name": "stderr",
     "output_type": "stream",
     "text": [
      "100%|██████████| 762/762 [00:36<00:00, 20.83it/s]\n"
     ]
    },
    {
     "name": "stdout",
     "output_type": "stream",
     "text": [
      "\n",
      "Summary: Train Loss: 0.6541, Train Acc: 76.69%, Validation Loss: 7.6971, Validation Acc: 74.41%\n",
      "\n",
      "Epoch [46/100] Training...\n"
     ]
    },
    {
     "name": "stderr",
     "output_type": "stream",
     "text": [
      "100%|██████████| 762/762 [00:36<00:00, 20.72it/s]\n"
     ]
    },
    {
     "name": "stdout",
     "output_type": "stream",
     "text": [
      "\n",
      "Summary: Train Loss: 0.6534, Train Acc: 76.65%, Validation Loss: 6.7776, Validation Acc: 77.45%\n",
      "\n",
      "Epoch [47/100] Training...\n"
     ]
    },
    {
     "name": "stderr",
     "output_type": "stream",
     "text": [
      "100%|██████████| 762/762 [00:37<00:00, 20.57it/s]\n"
     ]
    },
    {
     "name": "stdout",
     "output_type": "stream",
     "text": [
      "\n",
      "Summary: Train Loss: 0.6482, Train Acc: 77.00%, Validation Loss: 6.5707, Validation Acc: 78.10%\n",
      "\n",
      "Epoch [48/100] Training...\n"
     ]
    },
    {
     "name": "stderr",
     "output_type": "stream",
     "text": [
      "100%|██████████| 762/762 [00:36<00:00, 20.76it/s]\n"
     ]
    },
    {
     "name": "stdout",
     "output_type": "stream",
     "text": [
      "\n",
      "Summary: Train Loss: 0.6437, Train Acc: 77.11%, Validation Loss: 6.7228, Validation Acc: 77.76%\n",
      "\n",
      "Epoch [49/100] Training...\n"
     ]
    },
    {
     "name": "stderr",
     "output_type": "stream",
     "text": [
      "100%|██████████| 762/762 [00:37<00:00, 20.57it/s]\n"
     ]
    },
    {
     "name": "stdout",
     "output_type": "stream",
     "text": [
      "\n",
      "Summary: Train Loss: 0.6405, Train Acc: 77.20%, Validation Loss: 6.8943, Validation Acc: 76.83%\n",
      "\n",
      "Epoch [50/100] Training...\n"
     ]
    },
    {
     "name": "stderr",
     "output_type": "stream",
     "text": [
      "100%|██████████| 762/762 [00:37<00:00, 20.51it/s]\n"
     ]
    },
    {
     "name": "stdout",
     "output_type": "stream",
     "text": [
      "\n",
      "Summary: Train Loss: 0.6420, Train Acc: 77.16%, Validation Loss: 7.1425, Validation Acc: 76.18%\n",
      "\n",
      "Epoch [51/100] Training...\n"
     ]
    },
    {
     "name": "stderr",
     "output_type": "stream",
     "text": [
      "100%|██████████| 762/762 [00:37<00:00, 20.52it/s]\n"
     ]
    },
    {
     "name": "stdout",
     "output_type": "stream",
     "text": [
      "\n",
      "Summary: Train Loss: 0.6366, Train Acc: 77.31%, Validation Loss: 6.2646, Validation Acc: 79.41%\n",
      "\n",
      "Epoch [52/100] Training...\n"
     ]
    },
    {
     "name": "stderr",
     "output_type": "stream",
     "text": [
      "100%|██████████| 762/762 [00:37<00:00, 20.07it/s]\n"
     ]
    },
    {
     "name": "stdout",
     "output_type": "stream",
     "text": [
      "\n",
      "Summary: Train Loss: 0.6358, Train Acc: 77.48%, Validation Loss: 6.2387, Validation Acc: 79.41%\n",
      "\n",
      "Epoch [53/100] Training...\n"
     ]
    },
    {
     "name": "stderr",
     "output_type": "stream",
     "text": [
      "100%|██████████| 762/762 [00:37<00:00, 20.48it/s]\n"
     ]
    },
    {
     "name": "stdout",
     "output_type": "stream",
     "text": [
      "\n",
      "Summary: Train Loss: 0.6338, Train Acc: 77.40%, Validation Loss: 6.7195, Validation Acc: 77.55%\n",
      "\n",
      "Epoch [54/100] Training...\n"
     ]
    },
    {
     "name": "stderr",
     "output_type": "stream",
     "text": [
      "100%|██████████| 762/762 [00:37<00:00, 20.50it/s]\n"
     ]
    },
    {
     "name": "stdout",
     "output_type": "stream",
     "text": [
      "\n",
      "Summary: Train Loss: 0.6319, Train Acc: 77.49%, Validation Loss: 6.2682, Validation Acc: 79.28%\n",
      "\n",
      "Epoch [55/100] Training...\n"
     ]
    },
    {
     "name": "stderr",
     "output_type": "stream",
     "text": [
      "100%|██████████| 762/762 [00:36<00:00, 20.88it/s]\n"
     ]
    },
    {
     "name": "stdout",
     "output_type": "stream",
     "text": [
      "\n",
      "Summary: Train Loss: 0.6312, Train Acc: 77.48%, Validation Loss: 6.6742, Validation Acc: 77.88%\n",
      "\n",
      "Epoch [56/100] Training...\n"
     ]
    },
    {
     "name": "stderr",
     "output_type": "stream",
     "text": [
      "100%|██████████| 762/762 [00:37<00:00, 20.57it/s]\n"
     ]
    },
    {
     "name": "stdout",
     "output_type": "stream",
     "text": [
      "\n",
      "Summary: Train Loss: 0.6265, Train Acc: 77.72%, Validation Loss: 7.0647, Validation Acc: 76.50%\n",
      "\n",
      "Epoch [57/100] Training...\n"
     ]
    },
    {
     "name": "stderr",
     "output_type": "stream",
     "text": [
      "100%|██████████| 762/762 [00:36<00:00, 20.83it/s]\n"
     ]
    },
    {
     "name": "stdout",
     "output_type": "stream",
     "text": [
      "\n",
      "Summary: Train Loss: 0.6284, Train Acc: 77.57%, Validation Loss: 6.4384, Validation Acc: 78.52%\n",
      "\n",
      "Epoch [58/100] Training...\n"
     ]
    },
    {
     "name": "stderr",
     "output_type": "stream",
     "text": [
      "100%|██████████| 762/762 [00:36<00:00, 20.83it/s]\n"
     ]
    },
    {
     "name": "stdout",
     "output_type": "stream",
     "text": [
      "\n",
      "Summary: Train Loss: 0.6222, Train Acc: 77.82%, Validation Loss: 6.3104, Validation Acc: 79.18%\n",
      "\n",
      "Epoch [59/100] Training...\n"
     ]
    },
    {
     "name": "stderr",
     "output_type": "stream",
     "text": [
      "100%|██████████| 762/762 [00:36<00:00, 20.73it/s]\n"
     ]
    },
    {
     "name": "stdout",
     "output_type": "stream",
     "text": [
      "\n",
      "Summary: Train Loss: 0.6230, Train Acc: 77.82%, Validation Loss: 7.0207, Validation Acc: 76.76%\n",
      "\n",
      "Epoch [60/100] Training...\n"
     ]
    },
    {
     "name": "stderr",
     "output_type": "stream",
     "text": [
      "100%|██████████| 762/762 [00:37<00:00, 20.56it/s]\n"
     ]
    },
    {
     "name": "stdout",
     "output_type": "stream",
     "text": [
      "\n",
      "Summary: Train Loss: 0.6254, Train Acc: 77.89%, Validation Loss: 6.3550, Validation Acc: 78.91%\n",
      "\n",
      "Epoch [61/100] Training...\n"
     ]
    },
    {
     "name": "stderr",
     "output_type": "stream",
     "text": [
      "100%|██████████| 762/762 [00:37<00:00, 20.53it/s]\n"
     ]
    },
    {
     "name": "stdout",
     "output_type": "stream",
     "text": [
      "\n",
      "Summary: Train Loss: 0.6187, Train Acc: 77.99%, Validation Loss: 6.4206, Validation Acc: 78.55%\n",
      "\n",
      "Epoch [62/100] Training...\n"
     ]
    },
    {
     "name": "stderr",
     "output_type": "stream",
     "text": [
      "100%|██████████| 762/762 [00:36<00:00, 20.65it/s]\n"
     ]
    },
    {
     "name": "stdout",
     "output_type": "stream",
     "text": [
      "\n",
      "Summary: Train Loss: 0.6173, Train Acc: 77.98%, Validation Loss: 6.3652, Validation Acc: 78.92%\n",
      "\n",
      "Epoch [63/100] Training...\n"
     ]
    },
    {
     "name": "stderr",
     "output_type": "stream",
     "text": [
      "100%|██████████| 762/762 [00:36<00:00, 20.71it/s]\n"
     ]
    },
    {
     "name": "stdout",
     "output_type": "stream",
     "text": [
      "\n",
      "Summary: Train Loss: 0.6190, Train Acc: 78.07%, Validation Loss: 6.7956, Validation Acc: 77.15%\n",
      "\n",
      "Epoch [64/100] Training...\n"
     ]
    },
    {
     "name": "stderr",
     "output_type": "stream",
     "text": [
      "100%|██████████| 762/762 [00:36<00:00, 20.76it/s]\n"
     ]
    },
    {
     "name": "stdout",
     "output_type": "stream",
     "text": [
      "\n",
      "Summary: Train Loss: 0.6136, Train Acc: 78.21%, Validation Loss: 6.5505, Validation Acc: 78.18%\n",
      "\n",
      "Epoch [65/100] Training...\n"
     ]
    },
    {
     "name": "stderr",
     "output_type": "stream",
     "text": [
      "100%|██████████| 762/762 [00:36<00:00, 20.85it/s]\n"
     ]
    },
    {
     "name": "stdout",
     "output_type": "stream",
     "text": [
      "\n",
      "Summary: Train Loss: 0.6129, Train Acc: 78.23%, Validation Loss: 6.4527, Validation Acc: 78.55%\n",
      "\n",
      "Epoch [66/100] Training...\n"
     ]
    },
    {
     "name": "stderr",
     "output_type": "stream",
     "text": [
      "100%|██████████| 762/762 [00:36<00:00, 20.64it/s]\n"
     ]
    },
    {
     "name": "stdout",
     "output_type": "stream",
     "text": [
      "\n",
      "Summary: Train Loss: 0.6134, Train Acc: 78.17%, Validation Loss: 6.2417, Validation Acc: 79.42%\n",
      "\n",
      "Epoch [67/100] Training...\n"
     ]
    },
    {
     "name": "stderr",
     "output_type": "stream",
     "text": [
      "100%|██████████| 762/762 [00:37<00:00, 20.48it/s]\n"
     ]
    },
    {
     "name": "stdout",
     "output_type": "stream",
     "text": [
      "\n",
      "Summary: Train Loss: 0.6106, Train Acc: 78.36%, Validation Loss: 6.2011, Validation Acc: 79.48%\n",
      "\n",
      "Epoch [68/100] Training...\n"
     ]
    },
    {
     "name": "stderr",
     "output_type": "stream",
     "text": [
      "100%|██████████| 762/762 [00:36<00:00, 20.78it/s]\n"
     ]
    },
    {
     "name": "stdout",
     "output_type": "stream",
     "text": [
      "\n",
      "Summary: Train Loss: 0.6077, Train Acc: 78.25%, Validation Loss: 6.5789, Validation Acc: 78.25%\n",
      "\n",
      "Epoch [69/100] Training...\n"
     ]
    },
    {
     "name": "stderr",
     "output_type": "stream",
     "text": [
      "100%|██████████| 762/762 [00:37<00:00, 20.46it/s]\n"
     ]
    },
    {
     "name": "stdout",
     "output_type": "stream",
     "text": [
      "\n",
      "Summary: Train Loss: 0.6086, Train Acc: 78.28%, Validation Loss: 6.1882, Validation Acc: 79.45%\n",
      "\n",
      "Epoch [70/100] Training...\n"
     ]
    },
    {
     "name": "stderr",
     "output_type": "stream",
     "text": [
      "100%|██████████| 762/762 [00:36<00:00, 20.61it/s]\n"
     ]
    },
    {
     "name": "stdout",
     "output_type": "stream",
     "text": [
      "\n",
      "Summary: Train Loss: 0.6043, Train Acc: 78.49%, Validation Loss: 6.3135, Validation Acc: 79.04%\n",
      "\n",
      "Epoch [71/100] Training...\n"
     ]
    },
    {
     "name": "stderr",
     "output_type": "stream",
     "text": [
      "100%|██████████| 762/762 [00:36<00:00, 20.66it/s]\n"
     ]
    },
    {
     "name": "stdout",
     "output_type": "stream",
     "text": [
      "\n",
      "Summary: Train Loss: 0.6048, Train Acc: 78.48%, Validation Loss: 6.1542, Validation Acc: 79.49%\n",
      "\n",
      "Epoch [72/100] Training...\n"
     ]
    },
    {
     "name": "stderr",
     "output_type": "stream",
     "text": [
      "100%|██████████| 762/762 [00:37<00:00, 20.51it/s]\n"
     ]
    },
    {
     "name": "stdout",
     "output_type": "stream",
     "text": [
      "\n",
      "Summary: Train Loss: 0.6029, Train Acc: 78.66%, Validation Loss: 6.0587, Validation Acc: 79.99%\n",
      "\n",
      "Epoch [73/100] Training...\n"
     ]
    },
    {
     "name": "stderr",
     "output_type": "stream",
     "text": [
      "100%|██████████| 762/762 [00:37<00:00, 20.53it/s]\n"
     ]
    },
    {
     "name": "stdout",
     "output_type": "stream",
     "text": [
      "\n",
      "Summary: Train Loss: 0.6019, Train Acc: 78.58%, Validation Loss: 6.0745, Validation Acc: 80.07%\n",
      "\n",
      "Epoch [74/100] Training...\n"
     ]
    },
    {
     "name": "stderr",
     "output_type": "stream",
     "text": [
      "100%|██████████| 762/762 [00:36<00:00, 20.79it/s]\n"
     ]
    },
    {
     "name": "stdout",
     "output_type": "stream",
     "text": [
      "\n",
      "Summary: Train Loss: 0.5996, Train Acc: 78.83%, Validation Loss: 5.9629, Validation Acc: 80.07%\n",
      "\n",
      "Epoch [75/100] Training...\n"
     ]
    },
    {
     "name": "stderr",
     "output_type": "stream",
     "text": [
      "100%|██████████| 762/762 [00:37<00:00, 20.58it/s]\n"
     ]
    },
    {
     "name": "stdout",
     "output_type": "stream",
     "text": [
      "\n",
      "Summary: Train Loss: 0.5972, Train Acc: 78.85%, Validation Loss: 6.1658, Validation Acc: 79.55%\n",
      "\n",
      "Epoch [76/100] Training...\n"
     ]
    },
    {
     "name": "stderr",
     "output_type": "stream",
     "text": [
      "100%|██████████| 762/762 [00:36<00:00, 20.64it/s]\n"
     ]
    },
    {
     "name": "stdout",
     "output_type": "stream",
     "text": [
      "\n",
      "Summary: Train Loss: 0.5945, Train Acc: 78.90%, Validation Loss: 6.8541, Validation Acc: 77.31%\n",
      "\n",
      "Epoch [77/100] Training...\n"
     ]
    },
    {
     "name": "stderr",
     "output_type": "stream",
     "text": [
      "100%|██████████| 762/762 [00:37<00:00, 20.52it/s]\n"
     ]
    },
    {
     "name": "stdout",
     "output_type": "stream",
     "text": [
      "\n",
      "Summary: Train Loss: 0.5941, Train Acc: 78.82%, Validation Loss: 6.4087, Validation Acc: 78.63%\n",
      "\n",
      "Epoch [78/100] Training...\n"
     ]
    },
    {
     "name": "stderr",
     "output_type": "stream",
     "text": [
      "100%|██████████| 762/762 [00:37<00:00, 20.57it/s]\n"
     ]
    },
    {
     "name": "stdout",
     "output_type": "stream",
     "text": [
      "\n",
      "Summary: Train Loss: 0.5945, Train Acc: 78.96%, Validation Loss: 6.6033, Validation Acc: 77.87%\n",
      "\n",
      "Epoch [79/100] Training...\n"
     ]
    },
    {
     "name": "stderr",
     "output_type": "stream",
     "text": [
      "100%|██████████| 762/762 [00:37<00:00, 20.53it/s]\n"
     ]
    },
    {
     "name": "stdout",
     "output_type": "stream",
     "text": [
      "\n",
      "Summary: Train Loss: 0.5903, Train Acc: 79.09%, Validation Loss: 5.9614, Validation Acc: 80.25%\n",
      "\n",
      "Epoch [80/100] Training...\n"
     ]
    },
    {
     "name": "stderr",
     "output_type": "stream",
     "text": [
      "100%|██████████| 762/762 [00:36<00:00, 20.83it/s]\n"
     ]
    },
    {
     "name": "stdout",
     "output_type": "stream",
     "text": [
      "\n",
      "Summary: Train Loss: 0.5901, Train Acc: 79.05%, Validation Loss: 5.7827, Validation Acc: 80.91%\n",
      "\n",
      "Epoch [81/100] Training...\n"
     ]
    },
    {
     "name": "stderr",
     "output_type": "stream",
     "text": [
      "100%|██████████| 762/762 [00:36<00:00, 20.68it/s]\n"
     ]
    },
    {
     "name": "stdout",
     "output_type": "stream",
     "text": [
      "\n",
      "Summary: Train Loss: 0.5891, Train Acc: 79.06%, Validation Loss: 6.4773, Validation Acc: 78.19%\n",
      "\n",
      "Epoch [82/100] Training...\n"
     ]
    },
    {
     "name": "stderr",
     "output_type": "stream",
     "text": [
      "100%|██████████| 762/762 [00:36<00:00, 20.64it/s]\n"
     ]
    },
    {
     "name": "stdout",
     "output_type": "stream",
     "text": [
      "\n",
      "Summary: Train Loss: 0.5868, Train Acc: 79.26%, Validation Loss: 6.0271, Validation Acc: 79.75%\n",
      "\n",
      "Epoch [83/100] Training...\n"
     ]
    },
    {
     "name": "stderr",
     "output_type": "stream",
     "text": [
      "100%|██████████| 762/762 [00:36<00:00, 20.72it/s]\n"
     ]
    },
    {
     "name": "stdout",
     "output_type": "stream",
     "text": [
      "\n",
      "Summary: Train Loss: 0.5811, Train Acc: 79.36%, Validation Loss: 5.8051, Validation Acc: 80.87%\n",
      "\n",
      "Epoch [84/100] Training...\n"
     ]
    },
    {
     "name": "stderr",
     "output_type": "stream",
     "text": [
      "100%|██████████| 762/762 [00:37<00:00, 20.56it/s]\n"
     ]
    },
    {
     "name": "stdout",
     "output_type": "stream",
     "text": [
      "\n",
      "Summary: Train Loss: 0.5834, Train Acc: 79.29%, Validation Loss: 5.7672, Validation Acc: 80.70%\n",
      "\n",
      "Epoch [85/100] Training...\n"
     ]
    },
    {
     "name": "stderr",
     "output_type": "stream",
     "text": [
      "100%|██████████| 762/762 [00:37<00:00, 20.52it/s]\n"
     ]
    },
    {
     "name": "stdout",
     "output_type": "stream",
     "text": [
      "\n",
      "Summary: Train Loss: 0.5822, Train Acc: 79.33%, Validation Loss: 5.8523, Validation Acc: 80.49%\n",
      "\n",
      "Epoch [86/100] Training...\n"
     ]
    },
    {
     "name": "stderr",
     "output_type": "stream",
     "text": [
      "100%|██████████| 762/762 [00:37<00:00, 20.42it/s]\n"
     ]
    },
    {
     "name": "stdout",
     "output_type": "stream",
     "text": [
      "\n",
      "Summary: Train Loss: 0.5804, Train Acc: 79.45%, Validation Loss: 5.7712, Validation Acc: 80.63%\n",
      "\n",
      "Epoch [87/100] Training...\n"
     ]
    },
    {
     "name": "stderr",
     "output_type": "stream",
     "text": [
      "100%|██████████| 762/762 [00:36<00:00, 20.68it/s]\n"
     ]
    },
    {
     "name": "stdout",
     "output_type": "stream",
     "text": [
      "\n",
      "Summary: Train Loss: 0.5774, Train Acc: 79.56%, Validation Loss: 5.7966, Validation Acc: 80.65%\n",
      "\n",
      "Epoch [88/100] Training...\n"
     ]
    },
    {
     "name": "stderr",
     "output_type": "stream",
     "text": [
      "100%|██████████| 762/762 [00:37<00:00, 20.45it/s]\n"
     ]
    },
    {
     "name": "stdout",
     "output_type": "stream",
     "text": [
      "\n",
      "Summary: Train Loss: 0.5755, Train Acc: 79.64%, Validation Loss: 5.8128, Validation Acc: 80.86%\n",
      "\n",
      "Epoch [89/100] Training...\n"
     ]
    },
    {
     "name": "stderr",
     "output_type": "stream",
     "text": [
      "100%|██████████| 762/762 [00:37<00:00, 20.22it/s]\n"
     ]
    },
    {
     "name": "stdout",
     "output_type": "stream",
     "text": [
      "\n",
      "Summary: Train Loss: 0.5733, Train Acc: 79.60%, Validation Loss: 6.5419, Validation Acc: 78.62%\n",
      "\n",
      "Epoch [90/100] Training...\n"
     ]
    },
    {
     "name": "stderr",
     "output_type": "stream",
     "text": [
      "100%|██████████| 762/762 [00:37<00:00, 20.42it/s]\n"
     ]
    },
    {
     "name": "stdout",
     "output_type": "stream",
     "text": [
      "\n",
      "Summary: Train Loss: 0.5748, Train Acc: 79.55%, Validation Loss: 5.8100, Validation Acc: 80.93%\n",
      "\n",
      "Epoch [91/100] Training...\n"
     ]
    },
    {
     "name": "stderr",
     "output_type": "stream",
     "text": [
      "100%|██████████| 762/762 [00:37<00:00, 20.48it/s]\n"
     ]
    },
    {
     "name": "stdout",
     "output_type": "stream",
     "text": [
      "\n",
      "Summary: Train Loss: 0.5736, Train Acc: 79.62%, Validation Loss: 5.6629, Validation Acc: 81.34%\n",
      "\n",
      "Epoch [92/100] Training...\n"
     ]
    },
    {
     "name": "stderr",
     "output_type": "stream",
     "text": [
      "100%|██████████| 762/762 [00:36<00:00, 20.60it/s]\n"
     ]
    },
    {
     "name": "stdout",
     "output_type": "stream",
     "text": [
      "\n",
      "Summary: Train Loss: 0.5745, Train Acc: 79.66%, Validation Loss: 5.6983, Validation Acc: 80.99%\n",
      "\n",
      "Epoch [93/100] Training...\n"
     ]
    },
    {
     "name": "stderr",
     "output_type": "stream",
     "text": [
      "100%|██████████| 762/762 [00:36<00:00, 20.92it/s]\n"
     ]
    },
    {
     "name": "stdout",
     "output_type": "stream",
     "text": [
      "\n",
      "Summary: Train Loss: 0.5680, Train Acc: 79.86%, Validation Loss: 6.2184, Validation Acc: 79.38%\n",
      "\n",
      "Epoch [94/100] Training...\n"
     ]
    },
    {
     "name": "stderr",
     "output_type": "stream",
     "text": [
      "100%|██████████| 762/762 [00:36<00:00, 20.86it/s]\n"
     ]
    },
    {
     "name": "stdout",
     "output_type": "stream",
     "text": [
      "\n",
      "Summary: Train Loss: 0.5699, Train Acc: 79.91%, Validation Loss: 5.4849, Validation Acc: 82.27%\n",
      "\n",
      "Epoch [95/100] Training...\n"
     ]
    },
    {
     "name": "stderr",
     "output_type": "stream",
     "text": [
      "100%|██████████| 762/762 [00:37<00:00, 20.49it/s]\n"
     ]
    },
    {
     "name": "stdout",
     "output_type": "stream",
     "text": [
      "\n",
      "Summary: Train Loss: 0.5694, Train Acc: 79.84%, Validation Loss: 6.0604, Validation Acc: 79.83%\n",
      "\n",
      "Epoch [96/100] Training...\n"
     ]
    },
    {
     "name": "stderr",
     "output_type": "stream",
     "text": [
      "100%|██████████| 762/762 [00:36<00:00, 20.70it/s]\n"
     ]
    },
    {
     "name": "stdout",
     "output_type": "stream",
     "text": [
      "\n",
      "Summary: Train Loss: 0.5669, Train Acc: 79.83%, Validation Loss: 5.5546, Validation Acc: 81.47%\n",
      "\n",
      "Epoch [97/100] Training...\n"
     ]
    },
    {
     "name": "stderr",
     "output_type": "stream",
     "text": [
      "100%|██████████| 762/762 [00:37<00:00, 20.59it/s]\n"
     ]
    },
    {
     "name": "stdout",
     "output_type": "stream",
     "text": [
      "\n",
      "Summary: Train Loss: 0.5641, Train Acc: 80.02%, Validation Loss: 5.5937, Validation Acc: 81.64%\n",
      "\n",
      "Epoch [98/100] Training...\n"
     ]
    },
    {
     "name": "stderr",
     "output_type": "stream",
     "text": [
      "100%|██████████| 762/762 [00:36<00:00, 20.72it/s]\n"
     ]
    },
    {
     "name": "stdout",
     "output_type": "stream",
     "text": [
      "\n",
      "Summary: Train Loss: 0.5627, Train Acc: 80.16%, Validation Loss: 5.9682, Validation Acc: 80.49%\n",
      "\n",
      "Epoch [99/100] Training...\n"
     ]
    },
    {
     "name": "stderr",
     "output_type": "stream",
     "text": [
      "100%|██████████| 762/762 [00:37<00:00, 20.55it/s]\n"
     ]
    },
    {
     "name": "stdout",
     "output_type": "stream",
     "text": [
      "\n",
      "Summary: Train Loss: 0.5647, Train Acc: 79.99%, Validation Loss: 5.7105, Validation Acc: 81.02%\n",
      "\n",
      "Epoch [100/100] Training...\n"
     ]
    },
    {
     "name": "stderr",
     "output_type": "stream",
     "text": [
      "100%|██████████| 762/762 [00:36<00:00, 20.83it/s]\n"
     ]
    },
    {
     "name": "stdout",
     "output_type": "stream",
     "text": [
      "\n",
      "Summary: Train Loss: 0.5635, Train Acc: 80.15%, Validation Loss: 5.5598, Validation Acc: 81.62%\n"
     ]
    }
   ],
   "source": [
    "# train\n",
    "\n",
    "for epoch in range(NUM_EPOCHS):\n",
    "    train_correct = 0\n",
    "    train_total = 0\n",
    "    validation_correct = 0\n",
    "    validation_total = 0\n",
    "    running_loss = 0.0\n",
    "    \n",
    "    model.train()\n",
    "    print(f\"\\nEpoch [{epoch+1}/{NUM_EPOCHS}] Training...\")\n",
    "    for batch_idx, (inputs, targets) in enumerate(tqdm(train_loader)):\n",
    "        inputs = inputs.to(device)\n",
    "        \n",
    "        optimizer.zero_grad()\n",
    "        outputs = model(inputs)\n",
    "        \n",
    "        if task == 'multi-label, binary-class':\n",
    "            targets = targets.to(torch.float32).to(device)\n",
    "            loss = criterion(outputs, targets)\n",
    "            predicted = (outputs > 0.5).float()  # Binary classification threshold\n",
    "        else:\n",
    "            targets = targets.squeeze().long().to(device)\n",
    "            loss = criterion(outputs, targets)\n",
    "            predicted = torch.argmax(outputs, dim=1)\n",
    "        \n",
    "        loss.backward()\n",
    "        optimizer.step()\n",
    "\n",
    "        running_loss += loss.item()\n",
    "        train_correct += (predicted == targets).sum().item()\n",
    "        train_total += targets.numel()\n",
    "\n",
    "\n",
    "    train_accuracy = 100 * train_correct / train_total\n",
    "    train_loss = running_loss / len(train_loader)\n",
    "\n",
    "    # Store train loss and accuracy\n",
    "    train_losses.append(train_loss)\n",
    "    train_accuracies.append(train_accuracy)\n",
    "\n",
    "    # Evaluation phase\n",
    "    model.eval()\n",
    "    validation_loss = 0.0\n",
    "    with torch.no_grad():\n",
    "        for inputs, targets in validation_loader:\n",
    "            inputs = inputs.to(device)\n",
    "            outputs = model(inputs)\n",
    "\n",
    "            if task == 'multi-label, binary-class':\n",
    "                targets = targets.to(torch.float32).to(device)\n",
    "                loss = criterion(outputs, targets)\n",
    "                predicted = (outputs > 0.5).float()\n",
    "            else:\n",
    "                targets = targets.squeeze().long().to(device)\n",
    "                loss = criterion(outputs, targets)\n",
    "                predicted = torch.argmax(outputs, dim=1)\n",
    "\n",
    "            validation_loss += loss.item()\n",
    "            validation_correct += (predicted == targets).sum().item()\n",
    "            validation_total += targets.numel()\n",
    "\n",
    "        validation_accuracy = 100 * validation_correct / validation_total\n",
    "        validation_loss /= len(test_loader)\n",
    "\n",
    "    # Store test loss and accuracy\n",
    "    validation_losses.append(validation_loss)\n",
    "    validation_accuracies.append(validation_accuracy)\n",
    "\n",
    "    print(f\"\\nSummary: Train Loss: {train_loss:.4f}, Train Acc: {train_accuracy:.2f}%, Validation Loss: {validation_loss:.4f}, Validation Acc: {validation_accuracy:.2f}%\")\n"
   ]
  },
  {
   "cell_type": "code",
   "execution_count": 15,
   "metadata": {},
   "outputs": [
    {
     "data": {
      "image/png": "[encoded data removed]",
      "text/plain": [
       "<Figure size 1200x500 with 1 Axes>"
      ]
     },
     "metadata": {},
     "output_type": "display_data"
    }
   ],
   "source": [
    "# Plot accuracy and loss curves\n",
    "epochs = range(1, NUM_EPOCHS + 1)\n",
    "plt.figure(figsize=(12, 5))\n",
    "\n",
    "# Plot Loss\n",
    "plt.subplot(1, 2, 1)\n",
    "plt.plot(epochs, train_accuracies, label='Train Accuracy')\n",
    "plt.plot(epochs, validation_accuracies, label='Test Accuracy')\n",
    "plt.xlabel('Epochs')\n",
    "plt.ylabel('Accuracy (%)')\n",
    "plt.title('Accuracy Curve')\n",
    "plt.legend()\n",
    "\n",
    "plt.show()"
   ]
  },
  {
   "cell_type": "code",
   "execution_count": 16,
   "metadata": {},
   "outputs": [
    {
     "name": "stdout",
     "output_type": "stream",
     "text": [
      "\n",
      "Testing the model on the test dataset...\n",
      "\n",
      "Final Test Results: Loss: 0.8818, Accuracy: 62.90%\n"
     ]
    }
   ],
   "source": [
    "# Set the model to evaluation mode\n",
    "model.eval()\n",
    "\n",
    "test_correct = 0\n",
    "test_total = 0\n",
    "test_loss = 0.0\n",
    "\n",
    "print(\"\\nTesting the model on the test dataset...\")\n",
    "with torch.no_grad():  # No need to compute gradients during testing\n",
    "    for inputs, targets in test_loader:\n",
    "        inputs = inputs.to(device)\n",
    "\n",
    "        outputs = model(inputs)\n",
    "\n",
    "        if task == 'multi-label, binary-class':\n",
    "            targets = targets.to(torch.float32).to(device)\n",
    "            loss = criterion(outputs, targets)\n",
    "            predicted = (outputs > 0.5).float()  # Binary classification threshold\n",
    "        else:\n",
    "            targets = targets.squeeze().long().to(device)\n",
    "            loss = criterion(outputs, targets)\n",
    "            predicted = torch.argmax(outputs, dim=1)\n",
    "\n",
    "        test_loss += loss.item()\n",
    "        test_correct += (predicted == targets).sum().item()\n",
    "        test_total += targets.numel()\n",
    "\n",
    "# Compute final test accuracy and loss\n",
    "test_accuracy = 100 * test_correct / test_total\n",
    "test_loss /= len(test_loader)\n",
    "\n",
    "print(f\"\\nFinal Test Results: Loss: {test_loss:.4f}, Accuracy: {test_accuracy:.2f}%\")"
   ]
  },
  {
   "cell_type": "code",
   "execution_count": 19,
   "metadata": {},
   "outputs": [
    {
     "name": "stdout",
     "output_type": "stream",
     "text": [
      "Model saved successfully as pneu_model.pth!\n"
     ]
    }
   ],
   "source": [
    "# Save the trained model\n",
    "MODEL_PATH = \"pneu_model.pth\"\n",
    "torch.save(model, MODEL_PATH)\n",
    "\n",
    "print(f\"Model saved successfully as {MODEL_PATH}!\")"
   ]
  }
 ],
 "metadata": {
  "kernelspec": {
   "display_name": "Python 3",
   "language": "python",
   "name": "python3"
  },
  "language_info": {
   "codemirror_mode": {
    "name": "ipython",
    "version": 3
   },
   "file_extension": ".py",
   "mimetype": "text/x-python",
   "name": "python",
   "nbconvert_exporter": "python",
   "pygments_lexer": "ipython3",
   "version": "3.10.12"
  }
 },
 "nbformat": 4,
 "nbformat_minor": 2
}
